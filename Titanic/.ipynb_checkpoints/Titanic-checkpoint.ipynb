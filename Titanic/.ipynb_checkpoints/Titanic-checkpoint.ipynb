{
 "cells": [
  {
   "cell_type": "markdown",
   "metadata": {},
   "source": [
    "# Titanic prediction - top 8 %\n"
   ]
  },
  {
   "cell_type": "markdown",
   "metadata": {},
   "source": [
    "## Define useful global functions\n",
    "\n",
    "Collecting global functions to be used throughout here. "
   ]
  },
  {
   "cell_type": "code",
   "execution_count": 1,
   "metadata": {},
   "outputs": [],
   "source": [
    "# Send in a list of tuples\n",
    "def table_R(df):\n",
    "    x = [tuple(x) for x in df.values]\n",
    "    ps = pd.Series([tuple(i) for i in x])\n",
    "    print(ps.value_counts())\n",
    "\n",
    "def create_submission(test, preds_test, file_name):\n",
    "    submission = pd.concat([test_orig['PassengerId'], pd.Series(preds_test).astype(\"int\")], axis=1)\n",
    "    submission.columns = ['PassengerId', 'Survived']\n",
    "    submission.head()\n",
    "    submission.to_csv(file_name, index = False)\n",
    "\n",
    "# Returns a fitted and tuned model. Will also create predictions. \n",
    "def run_model(train, test, cv_grid_params,file_name = \"submission.csv\", regression = False, gauss_proc = False):\n",
    "    from sklearn.model_selection import cross_val_score, GridSearchCV\n",
    "    from sklearn.metrics import confusion_matrix\n",
    "    \n",
    "    X_train = train.drop(['Survived'], axis = 1)\n",
    "    y_train = train['Survived']\n",
    "    X_test = test.drop(['Survived'], axis = 1)\n",
    "    y_test = test['Survived']\n",
    "\n",
    "    grid_search = GridSearchCV(**cv_grid_params)\n",
    "    grid_search.fit(X_train,y_train)\n",
    "    \n",
    "    model = cv_grid_params['estimator']\n",
    "    \n",
    "    model.set_params(**grid_search.best_params_)\n",
    "    model.fit(X_train,y_train)\n",
    "    cv_scores = cross_val_score(model, X_train, y_train, cv = 10)\n",
    "    print(\"Cross validation scores:\" + str(cv_scores))\n",
    "    print(\"Mean score: \" + str(cv_scores.mean()))\n",
    "    test_preds = model.predict(X_test)\n",
    "    if regression == False:\n",
    "        print(\"Train confusion matrix:\" )\n",
    "        print(confusion_matrix(y_train.astype(\"int\"), model.predict(X_train).astype(\"int\")))\n",
    "        print(\"Predicting and creating submission. \")\n",
    "        create_submission(X_test, test_preds.astype(\"float\"), file_name)\n",
    "    else:\n",
    "        train_preds = model.predict(X_train)\n",
    "        \n",
    "        preds_test = []\n",
    "        preds_train = []\n",
    "        for i in range(train_preds.shape[0]):\n",
    "            if train_preds[i] < 0.5:\n",
    "                preds_train.append(0)\n",
    "            else:\n",
    "                preds_train.append(1)\n",
    "        print(\"Train confusion matrix:\" )\n",
    "        print(confusion_matrix(y_train, np.array(preds_train)))\n",
    "        for i in range(test_preds.shape[0]):\n",
    "            if test_preds[i] < 0.5:\n",
    "                preds_test.append(0)\n",
    "            else:\n",
    "                preds_test.append(1)\n",
    "        print(\"Predicting and creating submission. \")\n",
    "        create_submission(X_test, model.predict(X_test).astype(\"float\"), file_name)\n",
    "    \n",
    "    return test_preds, model\n",
    "        \n",
    "    "
   ]
  },
  {
   "cell_type": "markdown",
   "metadata": {},
   "source": [
    "## Start with processing data, feature fixing etc. "
   ]
  },
  {
   "cell_type": "code",
   "execution_count": 2,
   "metadata": {
    "scrolled": false
   },
   "outputs": [
    {
     "name": "stderr",
     "output_type": "stream",
     "text": [
      "/usr/local/Cellar/python/3.6.5/Frameworks/Python.framework/Versions/3.6/lib/python3.6/importlib/_bootstrap.py:219: ImportWarning: can't resolve package from __spec__ or __package__, falling back on __name__ and __path__\n",
      "  return f(*args, **kwds)\n",
      "/usr/local/Cellar/python/3.6.5/Frameworks/Python.framework/Versions/3.6/lib/python3.6/importlib/_bootstrap.py:219: ImportWarning: can't resolve package from __spec__ or __package__, falling back on __name__ and __path__\n",
      "  return f(*args, **kwds)\n"
     ]
    },
    {
     "data": {
      "text/html": [
       "<div>\n",
       "<style scoped>\n",
       "    .dataframe tbody tr th:only-of-type {\n",
       "        vertical-align: middle;\n",
       "    }\n",
       "\n",
       "    .dataframe tbody tr th {\n",
       "        vertical-align: top;\n",
       "    }\n",
       "\n",
       "    .dataframe thead th {\n",
       "        text-align: right;\n",
       "    }\n",
       "</style>\n",
       "<table border=\"1\" class=\"dataframe\">\n",
       "  <thead>\n",
       "    <tr style=\"text-align: right;\">\n",
       "      <th></th>\n",
       "      <th>index</th>\n",
       "      <th>PassengerId</th>\n",
       "      <th>Pclass</th>\n",
       "      <th>Age</th>\n",
       "      <th>SibSp</th>\n",
       "      <th>Parch</th>\n",
       "      <th>Fare</th>\n",
       "      <th>Survived</th>\n",
       "    </tr>\n",
       "  </thead>\n",
       "  <tbody>\n",
       "    <tr>\n",
       "      <th>count</th>\n",
       "      <td>1309.000000</td>\n",
       "      <td>1309.000000</td>\n",
       "      <td>1309.000000</td>\n",
       "      <td>1046.000000</td>\n",
       "      <td>1309.000000</td>\n",
       "      <td>1309.000000</td>\n",
       "      <td>1308.000000</td>\n",
       "      <td>891.000000</td>\n",
       "    </tr>\n",
       "    <tr>\n",
       "      <th>mean</th>\n",
       "      <td>369.478992</td>\n",
       "      <td>655.000000</td>\n",
       "      <td>2.294882</td>\n",
       "      <td>29.881138</td>\n",
       "      <td>0.498854</td>\n",
       "      <td>0.385027</td>\n",
       "      <td>33.295479</td>\n",
       "      <td>0.383838</td>\n",
       "    </tr>\n",
       "    <tr>\n",
       "      <th>std</th>\n",
       "      <td>248.767105</td>\n",
       "      <td>378.020061</td>\n",
       "      <td>0.837836</td>\n",
       "      <td>14.413493</td>\n",
       "      <td>1.041658</td>\n",
       "      <td>0.865560</td>\n",
       "      <td>51.758668</td>\n",
       "      <td>0.486592</td>\n",
       "    </tr>\n",
       "    <tr>\n",
       "      <th>min</th>\n",
       "      <td>0.000000</td>\n",
       "      <td>1.000000</td>\n",
       "      <td>1.000000</td>\n",
       "      <td>0.170000</td>\n",
       "      <td>0.000000</td>\n",
       "      <td>0.000000</td>\n",
       "      <td>0.000000</td>\n",
       "      <td>0.000000</td>\n",
       "    </tr>\n",
       "    <tr>\n",
       "      <th>25%</th>\n",
       "      <td>163.000000</td>\n",
       "      <td>328.000000</td>\n",
       "      <td>2.000000</td>\n",
       "      <td>21.000000</td>\n",
       "      <td>0.000000</td>\n",
       "      <td>0.000000</td>\n",
       "      <td>7.895800</td>\n",
       "      <td>0.000000</td>\n",
       "    </tr>\n",
       "    <tr>\n",
       "      <th>50%</th>\n",
       "      <td>327.000000</td>\n",
       "      <td>655.000000</td>\n",
       "      <td>3.000000</td>\n",
       "      <td>28.000000</td>\n",
       "      <td>0.000000</td>\n",
       "      <td>0.000000</td>\n",
       "      <td>14.454200</td>\n",
       "      <td>0.000000</td>\n",
       "    </tr>\n",
       "    <tr>\n",
       "      <th>75%</th>\n",
       "      <td>563.000000</td>\n",
       "      <td>982.000000</td>\n",
       "      <td>3.000000</td>\n",
       "      <td>39.000000</td>\n",
       "      <td>1.000000</td>\n",
       "      <td>0.000000</td>\n",
       "      <td>31.275000</td>\n",
       "      <td>1.000000</td>\n",
       "    </tr>\n",
       "    <tr>\n",
       "      <th>max</th>\n",
       "      <td>890.000000</td>\n",
       "      <td>1309.000000</td>\n",
       "      <td>3.000000</td>\n",
       "      <td>80.000000</td>\n",
       "      <td>8.000000</td>\n",
       "      <td>9.000000</td>\n",
       "      <td>512.329200</td>\n",
       "      <td>1.000000</td>\n",
       "    </tr>\n",
       "  </tbody>\n",
       "</table>\n",
       "</div>"
      ],
      "text/plain": [
       "             index  PassengerId       Pclass          Age        SibSp  \\\n",
       "count  1309.000000  1309.000000  1309.000000  1046.000000  1309.000000   \n",
       "mean    369.478992   655.000000     2.294882    29.881138     0.498854   \n",
       "std     248.767105   378.020061     0.837836    14.413493     1.041658   \n",
       "min       0.000000     1.000000     1.000000     0.170000     0.000000   \n",
       "25%     163.000000   328.000000     2.000000    21.000000     0.000000   \n",
       "50%     327.000000   655.000000     3.000000    28.000000     0.000000   \n",
       "75%     563.000000   982.000000     3.000000    39.000000     1.000000   \n",
       "max     890.000000  1309.000000     3.000000    80.000000     8.000000   \n",
       "\n",
       "             Parch         Fare    Survived  \n",
       "count  1309.000000  1308.000000  891.000000  \n",
       "mean      0.385027    33.295479    0.383838  \n",
       "std       0.865560    51.758668    0.486592  \n",
       "min       0.000000     0.000000    0.000000  \n",
       "25%       0.000000     7.895800    0.000000  \n",
       "50%       0.000000    14.454200    0.000000  \n",
       "75%       0.000000    31.275000    1.000000  \n",
       "max       9.000000   512.329200    1.000000  "
      ]
     },
     "execution_count": 2,
     "metadata": {},
     "output_type": "execute_result"
    }
   ],
   "source": [
    "import numpy as np\n",
    "import pandas as pd\n",
    "\n",
    "# Set seed to always be used\n",
    "seed = 123\n",
    "\n",
    "train_orig = pd.read_csv(\"train.csv\")\n",
    "test_orig = pd.read_csv(\"test.csv\")\n",
    "data = pd.concat([test_orig,train_orig], sort = False)\n",
    "data = data.reset_index()\n",
    "\n",
    "class_weights = {\n",
    "    0: (train_orig['Survived'] == 0).sum()/train_orig.shape[0],\n",
    "    1: (train_orig['Survived'] == 1).sum()/train_orig.shape[0]\n",
    "}\n",
    "\n",
    "data.describe()"
   ]
  },
  {
   "cell_type": "markdown",
   "metadata": {},
   "source": [
    "### Check for null values\n",
    "\n",
    "Okay, so we need to fix age, Fare, Cabin and Embarked. Survived's null values is the test set. "
   ]
  },
  {
   "cell_type": "code",
   "execution_count": 3,
   "metadata": {},
   "outputs": [
    {
     "data": {
      "text/plain": [
       "index             0\n",
       "PassengerId       0\n",
       "Pclass            0\n",
       "Name              0\n",
       "Sex               0\n",
       "Age             263\n",
       "SibSp             0\n",
       "Parch             0\n",
       "Ticket            0\n",
       "Fare              1\n",
       "Cabin          1014\n",
       "Embarked          2\n",
       "Survived        418\n",
       "dtype: int64"
      ]
     },
     "execution_count": 3,
     "metadata": {},
     "output_type": "execute_result"
    }
   ],
   "source": [
    "data.isna().sum()"
   ]
  },
  {
   "cell_type": "code",
   "execution_count": 4,
   "metadata": {},
   "outputs": [],
   "source": [
    "# Fill the missing one. \n",
    "data['Fare'] = data['Fare'].fillna(data['Fare'].dropna().median())"
   ]
  },
  {
   "cell_type": "markdown",
   "metadata": {},
   "source": [
    "## Fixing Cabin department out of Cabin feature\n",
    "\n",
    "We can get which department people lived, as well as their enumeration. The most probable is that the letter accounted for different sections, "
   ]
  },
  {
   "cell_type": "code",
   "execution_count": 5,
   "metadata": {},
   "outputs": [
    {
     "name": "stdout",
     "output_type": "stream",
     "text": [
      "1014\n"
     ]
    }
   ],
   "source": [
    "print(data['Cabin'].isnull().sum())\n",
    "data['Cabin_dep'] = [cabin_no[0] for cabin_no in data['Cabin'].astype(\"str\")]\n",
    "data['Cabin_dep'] = data['Cabin_dep'].astype(\"category\")"
   ]
  },
  {
   "cell_type": "markdown",
   "metadata": {},
   "source": [
    "## Fixing age variable\n",
    "\n",
    "As we saw, we have many ages that are NaN. To compensate for this, we simulate the distribution and obtain new samples. Make sure to use seed.  \n",
    "\n",
    "We sample for the training set and test set individually. For the test set, we just sample out of the distribution it has. For the training and test set, we sample out of densities for each class. \n",
    "\n",
    "The test distribution is, as seen, similar to the ones who died, which *might* indicate that we will rather have more people dying in the test set. "
   ]
  },
  {
   "cell_type": "code",
   "execution_count": 6,
   "metadata": {
    "scrolled": true
   },
   "outputs": [
    {
     "name": "stderr",
     "output_type": "stream",
     "text": [
      "/usr/local/lib/python3.6/site-packages/ipykernel_launcher.py:52: SettingWithCopyWarning: \n",
      "A value is trying to be set on a copy of a slice from a DataFrame\n",
      "\n",
      "See the caveats in the documentation: http://pandas.pydata.org/pandas-docs/stable/indexing.html#indexing-view-versus-copy\n"
     ]
    }
   ],
   "source": [
    "from matplotlib.pyplot import hist\n",
    "import matplotlib.pyplot as plt\n",
    "\n",
    "from scipy.stats import gaussian_kde\n",
    "hist(data['Age'].dropna(), density = True)\n",
    "from scipy.stats import poisson\n",
    "\n",
    "dens0 = gaussian_kde(data.Age[data['Survived'] == 0].dropna())\n",
    "dens1 = gaussian_kde(data.Age[data['Survived'] == 1].dropna())\n",
    "densNA = gaussian_kde(data.Age[data['Survived'].isna()].dropna())\n",
    "\n",
    "x0 = np.arange(0,data.Age[data['Survived'] == 0].dropna().max())\n",
    "x1 = np.arange(0,data.Age[data['Survived'] == 1].dropna().max())\n",
    "xNA = np.arange(0,data.Age[data['Survived'].isna()].dropna().max())\n",
    "\n",
    "plt.plot(x0, dens0.evaluate(x0), 'r')\n",
    "plt.plot(x1, dens1.evaluate(x1), 'g')\n",
    "plt.plot(xNA, densNA.evaluate(xNA), 'b')\n",
    "plt.legend([\"Died\", \"Survived\", \"Test dist\"])\n",
    "plt.title(\"Density slightly different, but not very. Still worth to separate sampling though. \")\n",
    "\n",
    "dist0 = dens0.evaluate(x0)\n",
    "# Normalize\n",
    "dist0 = np.divide(dist0,np.sum(dist0))\n",
    "dist0 = dens0.evaluate(x0)\n",
    "# Normalize\n",
    "dist0 = np.divide(dist0,np.sum(dist0))\n",
    "\n",
    "dist1 = dens1.evaluate(x1)\n",
    "# Normalize\n",
    "dist1 = np.divide(dist1,np.sum(dist1))\n",
    "dist1 = dens1.evaluate(x1)\n",
    "# Normalize\n",
    "dist1 = np.divide(dist1,np.sum(dist1))\n",
    "\n",
    "distNA = densNA.evaluate(xNA)\n",
    "# Normalize\n",
    "distNA = np.divide(distNA,np.sum(distNA))\n",
    "distNA = dens1.evaluate(xNA)\n",
    "# Normalize\n",
    "distNA = np.divide(distNA,np.sum(distNA))\n",
    "\n",
    "\n",
    "# We should sample out of this distribution to compensate. \n",
    "np.random.seed(seed)\n",
    "nan_ages0 = np.random.choice(x0, p = dist0, size = data['Age'].isnull().sum())\n",
    "nan_ages1 = np.random.choice(x1, p = dist1, size = data['Age'].isnull().sum())\n",
    "nan_agesNA = np.random.choice(xNA, p = distNA, size = data['Age'].isnull().sum())\n",
    "\n",
    "count = 0\n",
    "for i in list(data.Age[data['Survived'] == 0].index[np.where(data.Age[data['Survived'] == 0].isna())]):\n",
    "    data['Age'][i] = nan_ages0[count]\n",
    "    count += 1\n",
    "        \n",
    "count = 0\n",
    "for i in list(data.Age[data['Survived'] == 1].index[np.where(data.Age[data['Survived'] == 1].isna())]):\n",
    "    data['Age'][i] = nan_ages1[count]\n",
    "    count += 1\n",
    "\n",
    "count = 0\n",
    "for i in list(data.Age[data['Survived'].isna()].index[np.where(data.Age[data['Survived'].isna()].isna())]):\n",
    "    data['Age'][i] = nan_agesNA[count]\n",
    "    count += 1"
   ]
  },
  {
   "cell_type": "markdown",
   "metadata": {},
   "source": [
    "## Remove outliers \n",
    "\n",
    "First of all, I discovered while doing the things below, that there are many outliers in the dataset. To do this, I use the Z-score as in [this article from Towards Data Science](https://towardsdatascience.com/ways-to-detect-and-remove-the-outliers-404d16608dba). This is only done on the numerical features. \n",
    "\n",
    "A critique towards this is that we assume a normal distribution of these, which might be far from the case. However, we'll do it, and see if it works well. "
   ]
  },
  {
   "cell_type": "code",
   "execution_count": 7,
   "metadata": {},
   "outputs": [],
   "source": [
    "from scipy.stats import zscore\n",
    "\n",
    "indices_age = data.Age[data['Age'].isnull() == False].index\n",
    "z_scores_age = np.abs(zscore(data.Age[data['Age'].isnull() == False]))\n",
    "\n",
    "\n",
    "z_scores = pd.DataFrame(columns=['Age','SibSp','Parch','Fare'])\n",
    "z_scores['SibSp'] = zscore(data.SibSp)\n",
    "z_scores['Parch'] = zscore(data.Parch)\n",
    "z_scores['Fare'] = zscore(data.Fare)\n",
    "z_scores['Age'] = zscore(data.Age)\n",
    "    \n",
    "outlier_rows, outlier_cols = np.where(z_scores > 3)\n",
    "\n",
    "outliers = {}\n",
    "\n",
    "for i,col in enumerate(outlier_rows):\n",
    "    if outlier_rows[i] not in outliers:\n",
    "        outliers[outlier_rows[i]] = [outlier_cols[i]]\n",
    "    else:\n",
    "        outliers[outlier_rows[i]].append(outlier_cols[i])\n",
    "\n",
    "        \n",
    "# Remove all being outlier in 2 or more columns\n",
    "to_del = []\n",
    "for outlier in outliers:\n",
    "    if len(outliers[outlier]) >= 2 and outlier <= 891:\n",
    "        to_del.append(outlier)\n",
    "\n",
    "# Now delete all in list to_del\n",
    "\n",
    "for i in to_del:\n",
    "    data.drop(data.index[i], inplace=True)"
   ]
  },
  {
   "cell_type": "markdown",
   "metadata": {},
   "source": [
    "Okay, we only removed 4. Hopefully this will help the model. "
   ]
  },
  {
   "cell_type": "code",
   "execution_count": 8,
   "metadata": {},
   "outputs": [
    {
     "data": {
      "text/plain": [
       "index             0\n",
       "PassengerId       0\n",
       "Pclass            0\n",
       "Name              0\n",
       "Sex               0\n",
       "Age               0\n",
       "SibSp             0\n",
       "Parch             0\n",
       "Ticket            0\n",
       "Fare              0\n",
       "Cabin          1011\n",
       "Embarked          2\n",
       "Survived        415\n",
       "Cabin_dep         0\n",
       "dtype: int64"
      ]
     },
     "execution_count": 8,
     "metadata": {},
     "output_type": "execute_result"
    }
   ],
   "source": [
    "data.isnull().sum()"
   ]
  },
  {
   "cell_type": "markdown",
   "metadata": {},
   "source": [
    "### Sex variable\n",
    "\n",
    "The sex feature does not have any null values. However, we clearly see that men died to a much larger extent than women. Women clearly seem to have been prioritised. "
   ]
  },
  {
   "cell_type": "code",
   "execution_count": 9,
   "metadata": {},
   "outputs": [
    {
     "data": {
      "text/plain": [
       "<matplotlib.legend.Legend at 0x11dad8e80>"
      ]
     },
     "execution_count": 9,
     "metadata": {},
     "output_type": "execute_result"
    },
    {
     "data": {
      "image/png": "[encoded data removed]",
      "text/plain": [
       "<Figure size 432x288 with 1 Axes>"
      ]
     },
     "metadata": {},
     "output_type": "display_data"
    }
   ],
   "source": [
    "data['Sex'].isnull().sum()\n",
    "data['Sex'] = data['Sex'].astype('str')\n",
    "data['Sex'] = data['Sex'].replace({'male':1, 'female':-1})\n",
    "x=np.arange(1,4,2)\n",
    "plt.bar(x, data.Sex[data['Survived'] == 1].value_counts().sort_index(), width = 0.5)\n",
    "plt.title(\"Gender distributions of people dying and surviving\")\n",
    "plt.xticks(x - 0.25,[\"Female\", \"Male\"])\n",
    "plt.bar(x-0.5, data.Sex[data['Survived'] == 0].value_counts().sort_index(), width = 0.5, color = \"r\")\n",
    "plt.legend([\"Survived\",\"Died\"])"
   ]
  },
  {
   "cell_type": "markdown",
   "metadata": {},
   "source": [
    "### Fare variable\n",
    "\n",
    "What can be seen with the fare variable? \n",
    "\n",
    "There is one missing, in the test set. Just replace this one with the mean to compensate for it. "
   ]
  },
  {
   "cell_type": "code",
   "execution_count": 10,
   "metadata": {},
   "outputs": [
    {
     "name": "stdout",
     "output_type": "stream",
     "text": [
      "Survived: Mean: 48.39540760233918, sd: 66.49956280917583\n",
      "Died: Mean: 22.140912226277372, sd: 31.383569712357126\n"
     ]
    },
    {
     "data": {
      "image/png": "[encoded data removed]",
      "text/plain": [
       "<Figure size 432x288 with 1 Axes>"
      ]
     },
     "metadata": {},
     "output_type": "display_data"
    }
   ],
   "source": [
    "plt.plot(data.Fare[data['Survived'] == 1], 'ro')\n",
    "plt.plot(data.Fare[data['Survived'] == 0], 'bo')\n",
    "plt.legend([\"Survived\", \"Died\"])\n",
    "print(\"Survived: Mean: \"+str(np.mean(data.Fare[data['Survived'] == 1]))+ \", sd: \" + str(np.std(data.Fare[data['Survived'] == 1])))\n",
    "print(\"Died: Mean: \"+str(np.mean(data.Fare[data['Survived'] == 0]))+ \", sd: \" + str(np.std(data.Fare[data['Survived'] == 0])))"
   ]
  },
  {
   "cell_type": "markdown",
   "metadata": {},
   "source": [
    "### Parch feature\n",
    "\n",
    "The parch feature apparently indicates how many parents and children aboard the passenger in question had. This variable might give a good indication - a person with no family probably did not have to collect any family members. It is also quite probable that big, poor families were travelling. "
   ]
  },
  {
   "cell_type": "code",
   "execution_count": 11,
   "metadata": {},
   "outputs": [
    {
     "data": {
      "image/png": "[encoded data removed]",
      "text/plain": [
       "<Figure size 432x288 with 1 Axes>"
      ]
     },
     "metadata": {},
     "output_type": "display_data"
    }
   ],
   "source": [
    "x = np.arange(0,14,2)\n",
    "plt.bar(x - 0.25, data.Parch[data['Survived'] == 0].value_counts().sort_index(), width = 0.5)\n",
    "plt.bar(2*data.Parch[data['Survived'] == 1].value_counts().sort_index().index + 0.25, data.Parch[data['Survived'] == 1].value_counts().sort_index(), color = 'r', width = 0.5)\n",
    "plt.xticks(x,np.arange(0,7,1))\n",
    "plt.legend(['Survived', 'Died'])\n",
    "plt.show()"
   ]
  },
  {
   "cell_type": "markdown",
   "metadata": {},
   "source": [
    "Let's reduce the variance on this, and let 3 be \"3+\", as these indicate outliers. Also, we only have 2 that have the value 6, which is weird. This probably gives a better, more general model input. "
   ]
  },
  {
   "cell_type": "code",
   "execution_count": 12,
   "metadata": {},
   "outputs": [
    {
     "name": "stdout",
     "output_type": "stream",
     "text": [
      "0    999\n",
      "1    170\n",
      "2    113\n",
      "3     23\n",
      "Name: Parch, dtype: int64\n"
     ]
    },
    {
     "data": {
      "text/plain": [
       "<matplotlib.legend.Legend at 0x11dc3d898>"
      ]
     },
     "execution_count": 12,
     "metadata": {},
     "output_type": "execute_result"
    },
    {
     "data": {
      "image/png": "[encoded data removed]",
      "text/plain": [
       "<Figure size 432x288 with 1 Axes>"
      ]
     },
     "metadata": {},
     "output_type": "display_data"
    }
   ],
   "source": [
    "data.loc[data['Parch'] >= 3, 'Parch'] = 3\n",
    "print(data.Parch.value_counts().sort_index())\n",
    "x = np.arange(0,8,2)\n",
    "plt.bar(x - 0.25, data.Parch[data['Survived'] == 0].value_counts().sort_index(), width = 0.5, color = \"r\")\n",
    "plt.bar(2*data.Parch[data['Survived'] == 1].value_counts().sort_index().index + 0.25, data.Parch[data['Survived'] == 1].value_counts().sort_index(), color = 'b', width = 0.5)\n",
    "plt.xticks(x,np.arange(0,7,1))\n",
    "plt.legend(['Died', 'Survived'])"
   ]
  },
  {
   "cell_type": "markdown",
   "metadata": {},
   "source": [
    "### SibSp feature\n",
    "\n",
    "The SibSp indicates how many siblings and spouses the person had onboard. Again, this probably indicates whether they had to go back for someone or not. \n",
    "\n"
   ]
  },
  {
   "cell_type": "code",
   "execution_count": 13,
   "metadata": {},
   "outputs": [
    {
     "data": {
      "image/png": "[encoded data removed]",
      "text/plain": [
       "<Figure size 432x288 with 1 Axes>"
      ]
     },
     "metadata": {},
     "output_type": "display_data"
    }
   ],
   "source": [
    "x = np.array([0,1,2,3,4,5,8])\n",
    "\n",
    "plt.bar(np.array([0,2,4,6,8]) - 0.25,data.SibSp[data['Survived'] == 1].value_counts().sort_index(), color=\"b\", width=0.5)\n",
    "plt.bar(2*np.array([0,1,2,3,4,5,8]) + 0.25,data.SibSp[data['Survived'] == 0].value_counts().sort_index(), color = \"r\", width=0.5)\n",
    "plt.legend([\"Survived\", \"Died\"])\n",
    "plt.xticks(np.arange(0,18,2),np.arange(0,9))\n",
    "plt.show()"
   ]
  },
  {
   "cell_type": "markdown",
   "metadata": {},
   "source": [
    "We have clear outliers. I think we will do 4+ on this one. "
   ]
  },
  {
   "cell_type": "code",
   "execution_count": 14,
   "metadata": {},
   "outputs": [
    {
     "data": {
      "image/png": "[encoded data removed]",
      "text/plain": [
       "<Figure size 432x288 with 1 Axes>"
      ]
     },
     "metadata": {},
     "output_type": "display_data"
    }
   ],
   "source": [
    "data.loc[data['SibSp'] >= 4, 'SibSp'] = 4\n",
    "\n",
    "x = np.arange(0,10,2)\n",
    "\n",
    "plt.bar(x - 0.25,data.SibSp[data['Survived'] == 1].value_counts().sort_index(),width=0.5, color=\"b\")\n",
    "plt.bar(x + 0.25,data.SibSp[data['Survived'] == 0].value_counts().sort_index(),width=0.5, color=\"r\")\n",
    "plt.legend(['Survived', 'Died'])\n",
    "plt.xticks(x,x/2)\n",
    "plt.show()"
   ]
  },
  {
   "cell_type": "markdown",
   "metadata": {},
   "source": [
    "### Name feature\n",
    "\n",
    "The name feature is interesting, from which we can draw some other features perhaps. "
   ]
  },
  {
   "cell_type": "code",
   "execution_count": 15,
   "metadata": {},
   "outputs": [
    {
     "data": {
      "text/plain": [
       "0                                Kelly, Mr. James\n",
       "1                Wilkes, Mrs. James (Ellen Needs)\n",
       "2                       Myles, Mr. Thomas Francis\n",
       "3                                Wirz, Mr. Albert\n",
       "4    Hirvonen, Mrs. Alexander (Helga E Lindqvist)\n",
       "Name: Name, dtype: object"
      ]
     },
     "execution_count": 15,
     "metadata": {},
     "output_type": "execute_result"
    }
   ],
   "source": [
    "data.Name.head()"
   ]
  },
  {
   "cell_type": "markdown",
   "metadata": {},
   "source": [
    "It seems like many has titles in their names. "
   ]
  },
  {
   "cell_type": "markdown",
   "metadata": {},
   "source": [
    "#### Create Title feature\n",
    "\n",
    "First of all, everyone seems to have a title \"Mr.\", \"Mrs.\", \"Master.\" or \"Miss.\". Thus, we create a new one with their title. "
   ]
  },
  {
   "cell_type": "code",
   "execution_count": 16,
   "metadata": {},
   "outputs": [
    {
     "name": "stderr",
     "output_type": "stream",
     "text": [
      "<input>:5: DeprecationWarning: invalid escape sequence \\w\n",
      "<ipython-input-16-df4952e61902>:5: DeprecationWarning: invalid escape sequence \\w\n",
      "  matches = re.findall(\"\\w+\\.\",name)\n"
     ]
    },
    {
     "name": "stdout",
     "output_type": "stream",
     "text": [
      "Mr.         758\n",
      "Miss.       264\n",
      "Mrs.        199\n",
      "Master.      61\n",
      "Rev.          8\n",
      "Dr.           8\n",
      "Military      7\n",
      "Name: Title, dtype: int64\n"
     ]
    },
    {
     "data": {
      "image/png": "[encoded data removed]",
      "text/plain": [
       "<Figure size 432x288 with 1 Axes>"
      ]
     },
     "metadata": {},
     "output_type": "display_data"
    }
   ],
   "source": [
    "#print(['yes' for x in [x.lower() for x in list(data['Name'].values)] if 'master' in x])\n",
    "def create_title(name_col):\n",
    "    import re\n",
    "    for name in name_col:\n",
    "        matches = re.findall(\"\\w+\\.\",name)\n",
    "        yield matches[0]\n",
    "\n",
    "data['Title'] = list(create_title(data['Name']))\n",
    "#print(data['Title'].value_counts())\n",
    "data['Title'] = data['Title'].replace({'Mlle.':'Miss.','Ms.':'Miss.','Jonkheer.':\"Mr.\",\"Major.\":\"Mr.\",\"Countess.\":\"Mrs.\",\"Don.\":\"Mr.\", \"Dona.\":\"Mrs.\",\"Sir.\":\"Mr.\",\"Mme.\":\"Miss.\", \"Col.\":\"Military\", \"Major.\":\"Military\",\"Capt.\":\"Military\", \"Lady.\":\"Mrs.\"})\n",
    "print(data['Title'].value_counts())\n",
    "\n",
    "x = np.arange(0,14,2)\n",
    "\n",
    "plt.bar(x - 0.25, data.Title[data['Survived'] == 0].value_counts().sort_index(), color = \"r\", width = 0.5)\n",
    "plt.bar(x[:6] + 0.25, data.Title[data['Survived'] == 1].value_counts().sort_index(), color = \"b\", width = 0.5)\n",
    "plt.xticks(x,[\"Dr.\", \"Master.\", \"Military\",\"Miss.\",\"Mr.\",\"Mrs.\",\"Revenant\"])\n",
    "plt.legend([\"Died\",\"Survived\"])\n",
    "plt.show()\n"
   ]
  },
  {
   "cell_type": "markdown",
   "metadata": {},
   "source": [
    "Interesting is that *all* the revenants died. **Military** is a collection of military title. I did find many noble title, and that might have been interesting to separate. "
   ]
  },
  {
   "cell_type": "markdown",
   "metadata": {},
   "source": [
    "## Ticket feature\n",
    "Let us look at the ticket feature. \n",
    "\n",
    "Tickets seem to be a number or with letters and a number, indicating some sort of special ticket. Let's categorize them into into \"Numbered\" and their letters. Since we have so many different types, I will just base them based on the first letter. "
   ]
  },
  {
   "cell_type": "code",
   "execution_count": 17,
   "metadata": {},
   "outputs": [
    {
     "data": {
      "image/png": "[encoded data removed]",
      "text/plain": [
       "<Figure size 432x288 with 1 Axes>"
      ]
     },
     "metadata": {},
     "output_type": "display_data"
    }
   ],
   "source": [
    "data.Ticket.head(20)\n",
    "data.Ticket.loc[20]\n",
    "\n",
    "ticket_type = []\n",
    "\n",
    "import re\n",
    "\n",
    "#print(data.Ticket)\n",
    "for ticket in data.Ticket.values:\n",
    "    if ticket.isdigit():\n",
    "        ticket_type.append(\"Numbered\")\n",
    "    else:\n",
    "        ticket_type.append([re.sub('[^a-zA-Z_]','', x)[0:1] for x in ticket.split(\" \")][0])\n",
    "        \n",
    "data['Ticket_type'] = ticket_type\n",
    "x = np.arange(0,16,2)\n",
    "plt.bar(x - 0.25,data.Ticket_type[data['Survived'] == 0].value_counts().sort_index(), color = \"r\", width = 0.5)\n",
    "plt.bar(x + 0.25, data.Ticket_type[data['Survived'] == 1].value_counts().sort_index(), color = \"b\", width = 0.5)\n",
    "plt.legend(['Died', 'Survived'])\n",
    "plt.title(\"Ticket type dying vs \")\n",
    "plt.xticks(x,data.Ticket_type[data['Survived'] == 0].value_counts().sort_index().index)\n",
    "plt.show()"
   ]
  },
  {
   "cell_type": "markdown",
   "metadata": {},
   "source": [
    "There actually does seem to be some kind of useful information here. P seems to have survived to larger extent. However, the other seem to, unfortunately, follow the same distribution as the whole training set more or less. "
   ]
  },
  {
   "cell_type": "markdown",
   "metadata": {},
   "source": [
    "### Fix dummy variables for categories that we that"
   ]
  },
  {
   "cell_type": "code",
   "execution_count": 18,
   "metadata": {},
   "outputs": [
    {
     "data": {
      "text/html": [
       "<div>\n",
       "<style scoped>\n",
       "    .dataframe tbody tr th:only-of-type {\n",
       "        vertical-align: middle;\n",
       "    }\n",
       "\n",
       "    .dataframe tbody tr th {\n",
       "        vertical-align: top;\n",
       "    }\n",
       "\n",
       "    .dataframe thead th {\n",
       "        text-align: right;\n",
       "    }\n",
       "</style>\n",
       "<table border=\"1\" class=\"dataframe\">\n",
       "  <thead>\n",
       "    <tr style=\"text-align: right;\">\n",
       "      <th></th>\n",
       "      <th>index</th>\n",
       "      <th>PassengerId</th>\n",
       "      <th>Pclass</th>\n",
       "      <th>Sex</th>\n",
       "      <th>Age</th>\n",
       "      <th>SibSp</th>\n",
       "      <th>Parch</th>\n",
       "      <th>Fare</th>\n",
       "      <th>Survived</th>\n",
       "      <th>Embarked_C</th>\n",
       "      <th>...</th>\n",
       "      <th>Title_Mrs.</th>\n",
       "      <th>Title_Rev.</th>\n",
       "      <th>Ticket_type_A</th>\n",
       "      <th>Ticket_type_C</th>\n",
       "      <th>Ticket_type_F</th>\n",
       "      <th>Ticket_type_L</th>\n",
       "      <th>Ticket_type_Numbered</th>\n",
       "      <th>Ticket_type_P</th>\n",
       "      <th>Ticket_type_S</th>\n",
       "      <th>Ticket_type_W</th>\n",
       "    </tr>\n",
       "  </thead>\n",
       "  <tbody>\n",
       "    <tr>\n",
       "      <th>0</th>\n",
       "      <td>0</td>\n",
       "      <td>892</td>\n",
       "      <td>3</td>\n",
       "      <td>1</td>\n",
       "      <td>34.5</td>\n",
       "      <td>0</td>\n",
       "      <td>0</td>\n",
       "      <td>7.8292</td>\n",
       "      <td>NaN</td>\n",
       "      <td>0</td>\n",
       "      <td>...</td>\n",
       "      <td>0</td>\n",
       "      <td>0</td>\n",
       "      <td>0</td>\n",
       "      <td>0</td>\n",
       "      <td>0</td>\n",
       "      <td>0</td>\n",
       "      <td>1</td>\n",
       "      <td>0</td>\n",
       "      <td>0</td>\n",
       "      <td>0</td>\n",
       "    </tr>\n",
       "    <tr>\n",
       "      <th>1</th>\n",
       "      <td>1</td>\n",
       "      <td>893</td>\n",
       "      <td>3</td>\n",
       "      <td>-1</td>\n",
       "      <td>47.0</td>\n",
       "      <td>1</td>\n",
       "      <td>0</td>\n",
       "      <td>7.0000</td>\n",
       "      <td>NaN</td>\n",
       "      <td>0</td>\n",
       "      <td>...</td>\n",
       "      <td>1</td>\n",
       "      <td>0</td>\n",
       "      <td>0</td>\n",
       "      <td>0</td>\n",
       "      <td>0</td>\n",
       "      <td>0</td>\n",
       "      <td>1</td>\n",
       "      <td>0</td>\n",
       "      <td>0</td>\n",
       "      <td>0</td>\n",
       "    </tr>\n",
       "    <tr>\n",
       "      <th>2</th>\n",
       "      <td>2</td>\n",
       "      <td>894</td>\n",
       "      <td>2</td>\n",
       "      <td>1</td>\n",
       "      <td>62.0</td>\n",
       "      <td>0</td>\n",
       "      <td>0</td>\n",
       "      <td>9.6875</td>\n",
       "      <td>NaN</td>\n",
       "      <td>0</td>\n",
       "      <td>...</td>\n",
       "      <td>0</td>\n",
       "      <td>0</td>\n",
       "      <td>0</td>\n",
       "      <td>0</td>\n",
       "      <td>0</td>\n",
       "      <td>0</td>\n",
       "      <td>1</td>\n",
       "      <td>0</td>\n",
       "      <td>0</td>\n",
       "      <td>0</td>\n",
       "    </tr>\n",
       "    <tr>\n",
       "      <th>3</th>\n",
       "      <td>3</td>\n",
       "      <td>895</td>\n",
       "      <td>3</td>\n",
       "      <td>1</td>\n",
       "      <td>27.0</td>\n",
       "      <td>0</td>\n",
       "      <td>0</td>\n",
       "      <td>8.6625</td>\n",
       "      <td>NaN</td>\n",
       "      <td>0</td>\n",
       "      <td>...</td>\n",
       "      <td>0</td>\n",
       "      <td>0</td>\n",
       "      <td>0</td>\n",
       "      <td>0</td>\n",
       "      <td>0</td>\n",
       "      <td>0</td>\n",
       "      <td>1</td>\n",
       "      <td>0</td>\n",
       "      <td>0</td>\n",
       "      <td>0</td>\n",
       "    </tr>\n",
       "    <tr>\n",
       "      <th>4</th>\n",
       "      <td>4</td>\n",
       "      <td>896</td>\n",
       "      <td>3</td>\n",
       "      <td>-1</td>\n",
       "      <td>22.0</td>\n",
       "      <td>1</td>\n",
       "      <td>1</td>\n",
       "      <td>12.2875</td>\n",
       "      <td>NaN</td>\n",
       "      <td>0</td>\n",
       "      <td>...</td>\n",
       "      <td>1</td>\n",
       "      <td>0</td>\n",
       "      <td>0</td>\n",
       "      <td>0</td>\n",
       "      <td>0</td>\n",
       "      <td>0</td>\n",
       "      <td>1</td>\n",
       "      <td>0</td>\n",
       "      <td>0</td>\n",
       "      <td>0</td>\n",
       "    </tr>\n",
       "  </tbody>\n",
       "</table>\n",
       "<p>5 rows × 36 columns</p>\n",
       "</div>"
      ],
      "text/plain": [
       "   index  PassengerId  Pclass  Sex   Age  SibSp  Parch     Fare  Survived  \\\n",
       "0      0          892       3    1  34.5      0      0   7.8292       NaN   \n",
       "1      1          893       3   -1  47.0      1      0   7.0000       NaN   \n",
       "2      2          894       2    1  62.0      0      0   9.6875       NaN   \n",
       "3      3          895       3    1  27.0      0      0   8.6625       NaN   \n",
       "4      4          896       3   -1  22.0      1      1  12.2875       NaN   \n",
       "\n",
       "   Embarked_C      ...        Title_Mrs.  Title_Rev.  Ticket_type_A  \\\n",
       "0           0      ...                 0           0              0   \n",
       "1           0      ...                 1           0              0   \n",
       "2           0      ...                 0           0              0   \n",
       "3           0      ...                 0           0              0   \n",
       "4           0      ...                 1           0              0   \n",
       "\n",
       "   Ticket_type_C  Ticket_type_F  Ticket_type_L  Ticket_type_Numbered  \\\n",
       "0              0              0              0                     1   \n",
       "1              0              0              0                     1   \n",
       "2              0              0              0                     1   \n",
       "3              0              0              0                     1   \n",
       "4              0              0              0                     1   \n",
       "\n",
       "   Ticket_type_P  Ticket_type_S  Ticket_type_W  \n",
       "0              0              0              0  \n",
       "1              0              0              0  \n",
       "2              0              0              0  \n",
       "3              0              0              0  \n",
       "4              0              0              0  \n",
       "\n",
       "[5 rows x 36 columns]"
      ]
     },
     "execution_count": 18,
     "metadata": {},
     "output_type": "execute_result"
    }
   ],
   "source": [
    "data = pd.get_dummies(data.drop(['Cabin','Ticket','Name'], axis = 1))\n",
    "data.head()"
   ]
  },
  {
   "cell_type": "markdown",
   "metadata": {},
   "source": [
    "### Split into training and test set\n",
    "\n",
    "We should also upsample to balance the class weights. This does however make the training set's confusion matrix not necessarily representative. \n",
    "\n",
    "It can be done with upsampling, which was tried. However, I will use the class weights for those models where this is available instead, to induce a loss function. "
   ]
  },
  {
   "cell_type": "code",
   "execution_count": 19,
   "metadata": {},
   "outputs": [
    {
     "data": {
      "text/plain": [
       "0.0    548\n",
       "1.0    342\n",
       "Name: Survived, dtype: int64"
      ]
     },
     "execution_count": 19,
     "metadata": {},
     "output_type": "execute_result"
    }
   ],
   "source": [
    "train, test = [x for _, x in data.groupby(data['Survived'].isnull())]\n",
    "train = train.drop(['index', 'PassengerId'], axis = 1)\n",
    "test = test.drop(['index', 'PassengerId'], axis = 1)\n",
    "\"\"\"\n",
    "# The upsampling, which later was chosen not to use. \n",
    "n_dying = train[train['Survived'] == 0].shape[0]\n",
    "n_surviving = train[train['Survived'] == 1].shape[0]\n",
    "n_to_sample = n_dying - n_surviving\n",
    "print(\"Resampling \"+str(n_to_sample)+\" samples from training set. \")\n",
    "\n",
    "resamples = train[train['Survived'] == 1].sample(n_to_sample, axis = 0)\n",
    "\n",
    "train = pd.concat([train, resamples])\"\"\"\n",
    "\n",
    "train.Survived.value_counts()"
   ]
  },
  {
   "cell_type": "markdown",
   "metadata": {},
   "source": [
    "## Data processing done - time for modelling\n",
    "\n",
    "First off, we simply try a ridge regression with an rbf kernel and see its performance. This is kind of unchristly as it is actually regression, but it might actually perform well. "
   ]
  },
  {
   "cell_type": "code",
   "execution_count": 20,
   "metadata": {},
   "outputs": [],
   "source": [
    "X_train = train.drop(['Survived'], axis = 1)\n",
    "y_train = train['Survived']\n",
    "X_test = test.drop(['Survived'], axis = 1)"
   ]
  },
  {
   "cell_type": "markdown",
   "metadata": {},
   "source": [
    "## Ridge kernel regression\n",
    "\n",
    "Ridge kernel regression might give a nice result. Although it is not classification, this has interestingly worked well before. "
   ]
  },
  {
   "cell_type": "code",
   "execution_count": 21,
   "metadata": {},
   "outputs": [
    {
     "name": "stderr",
     "output_type": "stream",
     "text": [
      "/usr/local/Cellar/python/3.6.5/Frameworks/Python.framework/Versions/3.6/lib/python3.6/importlib/_bootstrap.py:219: ImportWarning: can't resolve package from __spec__ or __package__, falling back on __name__ and __path__\n",
      "  return f(*args, **kwds)\n",
      "/usr/local/Cellar/python/3.6.5/Frameworks/Python.framework/Versions/3.6/lib/python3.6/importlib/_bootstrap.py:219: ImportWarning: can't resolve package from __spec__ or __package__, falling back on __name__ and __path__\n",
      "  return f(*args, **kwds)\n"
     ]
    },
    {
     "name": "stdout",
     "output_type": "stream",
     "text": [
      "Fitting 10 folds for each of 81 candidates, totalling 810 fits\n"
     ]
    },
    {
     "name": "stderr",
     "output_type": "stream",
     "text": [
      "[Parallel(n_jobs=2)]: Using backend LokyBackend with 2 concurrent workers.\n",
      "[Parallel(n_jobs=2)]: Done  55 tasks      | elapsed:    5.4s\n",
      "[Parallel(n_jobs=2)]: Done 355 tasks      | elapsed:   22.1s\n",
      "[Parallel(n_jobs=2)]: Done 807 out of 810 | elapsed:   51.5s remaining:    0.2s\n",
      "[Parallel(n_jobs=2)]: Done 810 out of 810 | elapsed:   51.6s finished\n"
     ]
    },
    {
     "name": "stdout",
     "output_type": "stream",
     "text": [
      "Cross validation scores:[0.23246905 0.09875768 0.2177755  0.06730786 0.32686489 0.38294204\n",
      " 0.29414995 0.22166722 0.36592025 0.44932722]\n",
      "Mean score: 0.26571816737629483\n",
      "Train confusion matrix:\n",
      "[[514  34]\n",
      " [ 49 293]]\n",
      "Predicting and creating submission. \n"
     ]
    }
   ],
   "source": [
    "from sklearn.kernel_ridge import KernelRidge\n",
    "\n",
    "kern_ridge = KernelRidge()\n",
    "\n",
    "params = {'alpha': [0.01,0.1, 1.0],\n",
    " 'coef0': [0,0.1,1],\n",
    " 'degree': [1,2,3],\n",
    " 'gamma': [0.01,1,10],\n",
    " 'kernel': ['rbf']\n",
    "}\n",
    "\n",
    "grid_params = {\n",
    "    'estimator':kern_ridge,\n",
    "    'param_grid':params,\n",
    "    'n_jobs':2,\n",
    "    'iid':False,\n",
    "    'verbose':True,\n",
    "    'scoring':'neg_mean_squared_error',\n",
    "    'cv':10\n",
    "}\n",
    "\n",
    "y_preds_ridge, ridge_model = run_model(train, test, grid_params, file_name = \"submission_ridge.csv\", regression = True)"
   ]
  },
  {
   "cell_type": "markdown",
   "metadata": {},
   "source": [
    "## Logistic regression\n",
    "\n",
    "Now lets try logistic regression. "
   ]
  },
  {
   "cell_type": "code",
   "execution_count": 23,
   "metadata": {},
   "outputs": [
    {
     "name": "stdout",
     "output_type": "stream",
     "text": [
      "Fitting 10 folds for each of 48 candidates, totalling 480 fits\n"
     ]
    },
    {
     "name": "stderr",
     "output_type": "stream",
     "text": [
      "[Parallel(n_jobs=2)]: Using backend LokyBackend with 2 concurrent workers.\n",
      "[Parallel(n_jobs=2)]: Done  46 tasks      | elapsed:   23.0s\n",
      "[Parallel(n_jobs=2)]: Done 196 tasks      | elapsed:  1.4min\n",
      "[Parallel(n_jobs=2)]: Done 446 tasks      | elapsed:  3.3min\n",
      "[Parallel(n_jobs=2)]: Done 480 out of 480 | elapsed:  3.6min finished\n"
     ]
    },
    {
     "name": "stdout",
     "output_type": "stream",
     "text": [
      "Cross validation scores:[0.77777778 0.76666667 0.7752809  0.83146067 0.7752809  0.76404494\n",
      " 0.80898876 0.76404494 0.84090909 0.79545455]\n",
      "Mean score: 0.7899909204403587\n",
      "Train confusion matrix:\n",
      "[[497  51]\n",
      " [120 222]]\n",
      "Predicting and creating submission. \n"
     ]
    }
   ],
   "source": [
    "from sklearn.linear_model import LogisticRegression\n",
    "\n",
    "log_reg_model = LogisticRegression()\n",
    "\n",
    "log_reg_params = {'C': [0.1,1.0,10,100], \n",
    "                  'class_weight': [None], \n",
    "                  'dual': [None], \n",
    "                  'fit_intercept': [True,False], \n",
    "                  'max_iter': [10000], \n",
    "                  'multi_class': ['ovr'],\n",
    "                  'class_weight':[class_weights],\n",
    "                  'n_jobs': [1],\n",
    "                  'penalty': ['l1','l2'],\n",
    "                  'random_state': [123],  \n",
    "                  'tol': [0.0001, 0.0005,0.001], \n",
    "                  'solver':['saga'],\n",
    "                  'warm_start': [False]}\n",
    "grid_params['estimator'] = log_reg_model\n",
    "grid_params['param_grid'] = log_reg_params\n",
    "grid_params['scoring'] = 'accuracy'\n",
    "\n",
    "test_preds_log_reg, log_reg_model = run_model(train, test, grid_params, file_name = \"submission_log_reg.csv\")"
   ]
  },
  {
   "cell_type": "markdown",
   "metadata": {},
   "source": [
    "So Logistic regression performed worse. Let's choose the Ridge Regression for the classification. "
   ]
  },
  {
   "cell_type": "markdown",
   "metadata": {},
   "source": [
    "### XGBoost \n",
    "\n",
    "Let's try XGBoost instead. The score, without tuning hyperparameters or any cross-validation, resulted in 0.77, quite a good score. \n",
    "\n",
    "#### Tuning the parameters of XGBoost\n",
    "\n",
    "Let's tune the parameters for XGBoost and see how well it performs. "
   ]
  },
  {
   "cell_type": "code",
   "execution_count": 24,
   "metadata": {},
   "outputs": [
    {
     "name": "stdout",
     "output_type": "stream",
     "text": [
      "Fitting 10 folds for each of 864 candidates, totalling 8640 fits\n"
     ]
    },
    {
     "name": "stderr",
     "output_type": "stream",
     "text": [
      "[Parallel(n_jobs=2)]: Using backend LokyBackend with 2 concurrent workers.\n",
      "[Parallel(n_jobs=2)]: Done  46 tasks      | elapsed:    7.7s\n",
      "[Parallel(n_jobs=2)]: Done 196 tasks      | elapsed:   38.2s\n",
      "[Parallel(n_jobs=2)]: Done 446 tasks      | elapsed:  1.9min\n",
      "[Parallel(n_jobs=2)]: Done 796 tasks      | elapsed:  3.1min\n",
      "[Parallel(n_jobs=2)]: Done 1246 tasks      | elapsed:  4.6min\n",
      "[Parallel(n_jobs=2)]: Done 1796 tasks      | elapsed:  6.3min\n",
      "[Parallel(n_jobs=2)]: Done 2446 tasks      | elapsed:  9.0min\n",
      "[Parallel(n_jobs=2)]: Done 3196 tasks      | elapsed: 12.3min\n",
      "[Parallel(n_jobs=2)]: Done 4046 tasks      | elapsed: 15.6min\n",
      "[Parallel(n_jobs=2)]: Done 4996 tasks      | elapsed: 18.8min\n",
      "[Parallel(n_jobs=2)]: Done 6046 tasks      | elapsed: 21.8min\n",
      "[Parallel(n_jobs=2)]: Done 7196 tasks      | elapsed: 25.6min\n",
      "[Parallel(n_jobs=2)]: Done 8446 tasks      | elapsed: 30.0min\n",
      "[Parallel(n_jobs=2)]: Done 8640 out of 8640 | elapsed: 30.6min finished\n"
     ]
    },
    {
     "name": "stdout",
     "output_type": "stream",
     "text": [
      "Cross validation scores:[0.8        0.83333333 0.75280899 0.84269663 0.85393258 0.87640449\n",
      " 0.87640449 0.84269663 0.85227273 0.84090909]\n",
      "Mean score: 0.8371458971739871\n",
      "Train confusion matrix:\n",
      "[[528  20]\n",
      " [ 40 302]]\n",
      "Predicting and creating submission. \n"
     ]
    }
   ],
   "source": [
    "from xgboost import XGBClassifier\n",
    "\n",
    "xgb_model = XGBClassifier()\n",
    "\n",
    "params_xgb = {\n",
    "    'base_score':[0.3,0.5],\n",
    "    'colsample_bytree':[0.4,0.7],\n",
    "    'gamma':[0.01,0.5,0.9],\n",
    "    'min_child_weight':[1,3],\n",
    "    'learning_rate':[0.01,0.1,1],\n",
    "    'max_depth':[3,4,5],\n",
    "    'n_estimators':[500],\n",
    "    'reg_alpha':[1e-5, 0.1],\n",
    "    'reg_lambda':[1e-5, 0.1],\n",
    "    'subsample':[0.8]\n",
    "}\n",
    "\n",
    "grid_params['estimator'] = xgb_model\n",
    "grid_params['param_grid'] = params_xgb\n",
    "grid_params['n_jobs'] = 2\n",
    "\n",
    "test_preds_xgb, xgb_model = run_model(train, test, grid_params, file_name = \"submission_xgb.csv\")\n"
   ]
  },
  {
   "cell_type": "markdown",
   "metadata": {},
   "source": [
    "Let's use the best model to predict and submit it. Tuning as above led to an improvement of 2 %. Not much, but still something. "
   ]
  },
  {
   "cell_type": "markdown",
   "metadata": {},
   "source": [
    "## Gaussian process\n",
    "\n",
    "Let's try gaussian processes instead. We use the same features as previously, i.e. X_train, y_train and X_test. However, we need to scale the numerical variables. \n",
    "\n",
    "Also, in gaussian processes, output $y$ is assumed to have mean 0. Since we have a balanced dataset through upsampling, "
   ]
  },
  {
   "cell_type": "code",
   "execution_count": 25,
   "metadata": {},
   "outputs": [
    {
     "name": "stdout",
     "output_type": "stream",
     "text": [
      "   Pclass  Sex       Age     SibSp     Parch      Fare  Survived  Embarked_C  \\\n",
      "0       3    1  0.336618 -0.541375 -0.499792 -0.492577       NaN           0   \n",
      "1       3   -1  1.216764  0.616812 -0.499792 -0.508708       NaN           0   \n",
      "2       2    1  2.272939 -0.541375 -0.499792 -0.456424       NaN           0   \n",
      "3       3    1 -0.191470 -0.541375 -0.499792 -0.476365       NaN           0   \n",
      "4       3   -1 -0.543528  0.616812  0.902850 -0.405842       NaN           0   \n",
      "\n",
      "   Embarked_Q  Embarked_S      ...        Title_Mrs.  Title_Rev.  \\\n",
      "0           1           0      ...                 0           0   \n",
      "1           0           1      ...                 1           0   \n",
      "2           1           0      ...                 0           0   \n",
      "3           0           1      ...                 0           0   \n",
      "4           0           1      ...                 1           0   \n",
      "\n",
      "   Ticket_type_A  Ticket_type_C  Ticket_type_F  Ticket_type_L  \\\n",
      "0              0              0              0              0   \n",
      "1              0              0              0              0   \n",
      "2              0              0              0              0   \n",
      "3              0              0              0              0   \n",
      "4              0              0              0              0   \n",
      "\n",
      "   Ticket_type_Numbered  Ticket_type_P  Ticket_type_S  Ticket_type_W  \n",
      "0                     1              0              0              0  \n",
      "1                     1              0              0              0  \n",
      "2                     1              0              0              0  \n",
      "3                     1              0              0              0  \n",
      "4                     1              0              0              0  \n",
      "\n",
      "[5 rows x 34 columns]\n",
      "(890, 34)\n"
     ]
    },
    {
     "name": "stderr",
     "output_type": "stream",
     "text": [
      "/usr/local/lib/python3.6/site-packages/ipykernel_launcher.py:6: DataConversionWarning: Data with input dtype int64, float64 were all converted to float64 by the scale function.\n",
      "  \n"
     ]
    }
   ],
   "source": [
    "from sklearn.preprocessing import scale\n",
    "# Scale the data \n",
    "test_gp = test.copy()\n",
    "train_gp = train.copy()\n",
    "data_gp = pd.concat([test_gp,train_gp])\n",
    "data_gp[['Age','Fare','SibSp','Parch']] = scale(data_gp[['Age','Fare','SibSp','Parch']])\n",
    "\n",
    "\n",
    "print(data_gp.head())\n",
    "\n",
    "data_gp['Survived'].replace({1:1, 0:-1})\n",
    "\n",
    "from sklearn.preprocessing import scale\n",
    "# Time to scale the numerical variables!\n",
    "train_gp, test_gp = [x for _, x in data_gp.groupby(data_gp['Survived'].isnull())]\n",
    "\n",
    "print(train_gp.shape)"
   ]
  },
  {
   "cell_type": "code",
   "execution_count": 26,
   "metadata": {},
   "outputs": [
    {
     "name": "stdout",
     "output_type": "stream",
     "text": [
      "Fitting 10 folds for each of 7 candidates, totalling 70 fits\n"
     ]
    },
    {
     "name": "stderr",
     "output_type": "stream",
     "text": [
      "[Parallel(n_jobs=2)]: Using backend LokyBackend with 2 concurrent workers.\n",
      "[Parallel(n_jobs=2)]: Done  46 tasks      | elapsed:  2.1min\n",
      "[Parallel(n_jobs=2)]: Done  70 out of  70 | elapsed:  2.8min finished\n"
     ]
    },
    {
     "name": "stdout",
     "output_type": "stream",
     "text": [
      "Cross validation scores:[0.82222222 0.83333333 0.7752809  0.86516854 0.83146067 0.80898876\n",
      " 0.83146067 0.80898876 0.85227273 0.86363636]\n",
      "Mean score: 0.829281296107139\n",
      "Train confusion matrix:\n",
      "[[494  54]\n",
      " [ 83 259]]\n",
      "Predicting and creating submission. \n"
     ]
    }
   ],
   "source": [
    "from sklearn.gaussian_process import GaussianProcessClassifier\n",
    "from sklearn.gaussian_process.kernels import RBF\n",
    "params = {'copy_X_train': [True],\n",
    " 'kernel': [RBF(1.0),RBF(0.01),RBF(0.001),RBF(10), RBF(5), RBF(3), RBF(2)],\n",
    " 'max_iter_predict': [100],\n",
    " 'multi_class': ['one_vs_rest'],\n",
    " 'n_jobs': [3],\n",
    " 'n_restarts_optimizer': [0],\n",
    " 'optimizer': ['fmin_l_bfgs_b'],\n",
    " 'random_state': [123],\n",
    " 'warm_start': [False]\n",
    "         }\n",
    "\n",
    "grid_params['estimator'] = GaussianProcessClassifier()\n",
    "grid_params['param_grid'] = params\n",
    "\n",
    "test_preds_gauss, gp_model = run_model(train_gp, test_gp, grid_params, file_name = \"submission_gauss_process.csv\")"
   ]
  },
  {
   "cell_type": "markdown",
   "metadata": {},
   "source": [
    "This actually yielded some pretty good results; this made me pass above the 0.8 line on the test set. "
   ]
  },
  {
   "cell_type": "markdown",
   "metadata": {},
   "source": [
    "### SVM classifier \n",
    "\n",
    "Let's use an SVM aswell to classify, with *scaled* numerical features. "
   ]
  },
  {
   "cell_type": "code",
   "execution_count": 28,
   "metadata": {},
   "outputs": [
    {
     "name": "stdout",
     "output_type": "stream",
     "text": [
      "Fitting 10 folds for each of 384 candidates, totalling 3840 fits\n"
     ]
    },
    {
     "name": "stderr",
     "output_type": "stream",
     "text": [
      "[Parallel(n_jobs=2)]: Using backend LokyBackend with 2 concurrent workers.\n",
      "[Parallel(n_jobs=2)]: Done 172 tasks      | elapsed:    4.0s\n",
      "[Parallel(n_jobs=2)]: Done 772 tasks      | elapsed:   19.4s\n",
      "[Parallel(n_jobs=2)]: Done 1772 tasks      | elapsed:   43.4s\n",
      "[Parallel(n_jobs=2)]: Done 3172 tasks      | elapsed:  1.3min\n",
      "[Parallel(n_jobs=2)]: Done 3840 out of 3840 | elapsed:  1.6min finished\n",
      "/usr/local/lib/python3.6/site-packages/sklearn/svm/base.py:196: FutureWarning: The default value of gamma will change from 'auto' to 'scale' in version 0.22 to account better for unscaled features. Set gamma explicitly to 'auto' or 'scale' to avoid this warning.\n",
      "  \"avoid this warning.\", FutureWarning)\n",
      "/usr/local/lib/python3.6/site-packages/sklearn/svm/base.py:196: FutureWarning: The default value of gamma will change from 'auto' to 'scale' in version 0.22 to account better for unscaled features. Set gamma explicitly to 'auto' or 'scale' to avoid this warning.\n",
      "  \"avoid this warning.\", FutureWarning)\n",
      "/usr/local/lib/python3.6/site-packages/sklearn/svm/base.py:196: FutureWarning: The default value of gamma will change from 'auto' to 'scale' in version 0.22 to account better for unscaled features. Set gamma explicitly to 'auto' or 'scale' to avoid this warning.\n",
      "  \"avoid this warning.\", FutureWarning)\n",
      "/usr/local/lib/python3.6/site-packages/sklearn/svm/base.py:196: FutureWarning: The default value of gamma will change from 'auto' to 'scale' in version 0.22 to account better for unscaled features. Set gamma explicitly to 'auto' or 'scale' to avoid this warning.\n",
      "  \"avoid this warning.\", FutureWarning)\n",
      "/usr/local/lib/python3.6/site-packages/sklearn/svm/base.py:196: FutureWarning: The default value of gamma will change from 'auto' to 'scale' in version 0.22 to account better for unscaled features. Set gamma explicitly to 'auto' or 'scale' to avoid this warning.\n",
      "  \"avoid this warning.\", FutureWarning)\n",
      "/usr/local/lib/python3.6/site-packages/sklearn/svm/base.py:196: FutureWarning: The default value of gamma will change from 'auto' to 'scale' in version 0.22 to account better for unscaled features. Set gamma explicitly to 'auto' or 'scale' to avoid this warning.\n",
      "  \"avoid this warning.\", FutureWarning)\n",
      "/usr/local/lib/python3.6/site-packages/sklearn/svm/base.py:196: FutureWarning: The default value of gamma will change from 'auto' to 'scale' in version 0.22 to account better for unscaled features. Set gamma explicitly to 'auto' or 'scale' to avoid this warning.\n",
      "  \"avoid this warning.\", FutureWarning)\n",
      "/usr/local/lib/python3.6/site-packages/sklearn/svm/base.py:196: FutureWarning: The default value of gamma will change from 'auto' to 'scale' in version 0.22 to account better for unscaled features. Set gamma explicitly to 'auto' or 'scale' to avoid this warning.\n",
      "  \"avoid this warning.\", FutureWarning)\n",
      "/usr/local/lib/python3.6/site-packages/sklearn/svm/base.py:196: FutureWarning: The default value of gamma will change from 'auto' to 'scale' in version 0.22 to account better for unscaled features. Set gamma explicitly to 'auto' or 'scale' to avoid this warning.\n",
      "  \"avoid this warning.\", FutureWarning)\n"
     ]
    },
    {
     "name": "stdout",
     "output_type": "stream",
     "text": [
      "Cross validation scores:[0.83333333 0.85555556 0.78651685 0.87640449 0.84269663 0.80898876\n",
      " 0.83146067 0.79775281 0.875      0.85227273]\n",
      "Mean score: 0.8359981840880717\n",
      "Train confusion matrix:\n",
      "[[496  52]\n",
      " [ 90 252]]\n",
      "Predicting and creating submission. \n"
     ]
    },
    {
     "name": "stderr",
     "output_type": "stream",
     "text": [
      "/usr/local/lib/python3.6/site-packages/sklearn/svm/base.py:196: FutureWarning: The default value of gamma will change from 'auto' to 'scale' in version 0.22 to account better for unscaled features. Set gamma explicitly to 'auto' or 'scale' to avoid this warning.\n",
      "  \"avoid this warning.\", FutureWarning)\n",
      "/usr/local/lib/python3.6/site-packages/sklearn/svm/base.py:196: FutureWarning: The default value of gamma will change from 'auto' to 'scale' in version 0.22 to account better for unscaled features. Set gamma explicitly to 'auto' or 'scale' to avoid this warning.\n",
      "  \"avoid this warning.\", FutureWarning)\n",
      "/usr/local/lib/python3.6/site-packages/sklearn/svm/base.py:196: FutureWarning: The default value of gamma will change from 'auto' to 'scale' in version 0.22 to account better for unscaled features. Set gamma explicitly to 'auto' or 'scale' to avoid this warning.\n",
      "  \"avoid this warning.\", FutureWarning)\n"
     ]
    }
   ],
   "source": [
    "from sklearn.svm import SVC\n",
    "\n",
    "params = {'C': [0.01,0.1,0.5,1.0,10,50],\n",
    " 'class_weight': [class_weights],\n",
    " 'coef0': [0.0,0.1,0.5,1],\n",
    " 'decision_function_shape': ['ovr'],\n",
    " 'degree': [2,3],\n",
    " 'gamma': ['auto_deprecated'],\n",
    " 'kernel': ['rbf','poly'],\n",
    " 'max_iter': [-1],\n",
    " 'probability': [False],\n",
    " 'random_state': [123],\n",
    " 'shrinking': [True],\n",
    " 'tol': [0.001,0.003,0.005,0.01]}\n",
    "\n",
    "grid_params['estimator'] = SVC()\n",
    "grid_params['param_grid'] = params\n",
    "\n",
    "test_preds_svm, svm_model = run_model(train_gp, test_gp, grid_params, file_name = \"submission_gauss_process.csv\")"
   ]
  },
  {
   "cell_type": "markdown",
   "metadata": {},
   "source": [
    "The SVM yielded a test score result of about 0.78468, in other words, not too shabby. "
   ]
  },
  {
   "cell_type": "markdown",
   "metadata": {},
   "source": [
    "### Random Forest\n",
    "\n",
    "Let us try a random forest"
   ]
  },
  {
   "cell_type": "code",
   "execution_count": 29,
   "metadata": {},
   "outputs": [
    {
     "name": "stderr",
     "output_type": "stream",
     "text": [
      "/usr/local/Cellar/python/3.6.5/Frameworks/Python.framework/Versions/3.6/lib/python3.6/importlib/_bootstrap.py:219: ImportWarning: can't resolve package from __spec__ or __package__, falling back on __name__ and __path__\n",
      "  return f(*args, **kwds)\n"
     ]
    },
    {
     "name": "stdout",
     "output_type": "stream",
     "text": [
      "Fitting 10 folds for each of 768 candidates, totalling 7680 fits\n"
     ]
    },
    {
     "name": "stderr",
     "output_type": "stream",
     "text": [
      "[Parallel(n_jobs=2)]: Using backend LokyBackend with 2 concurrent workers.\n",
      "[Parallel(n_jobs=2)]: Done 324 tasks      | elapsed:    8.5s\n",
      "[Parallel(n_jobs=2)]: Done 1524 tasks      | elapsed:   39.0s\n",
      "[Parallel(n_jobs=2)]: Done 3524 tasks      | elapsed:  1.4min\n",
      "[Parallel(n_jobs=2)]: Done 6324 tasks      | elapsed:  2.6min\n",
      "[Parallel(n_jobs=2)]: Done 7680 out of 7680 | elapsed:  3.3min finished\n"
     ]
    },
    {
     "name": "stdout",
     "output_type": "stream",
     "text": [
      "Cross validation scores:[0.82222222 0.85555556 0.76404494 0.86516854 0.86516854 0.85393258\n",
      " 0.83146067 0.76404494 0.86363636 0.86363636]\n",
      "Mean score: 0.8348870729769606\n",
      "Train confusion matrix:\n",
      "[[521  27]\n",
      " [ 58 284]]\n",
      "Predicting and creating submission. \n"
     ]
    }
   ],
   "source": [
    "from sklearn.ensemble import RandomForestClassifier\n",
    "\n",
    "rf_model = RandomForestClassifier()\n",
    "\n",
    "params_rf = {\n",
    "     'bootstrap': [True,False],\n",
    "     'class_weight': [None],\n",
    "     'criterion': ['gini','entropy'],\n",
    "     'max_depth': [None],\n",
    "     'max_features': ['auto'],\n",
    "     'max_leaf_nodes': [None],\n",
    "     'min_impurity_decrease': [0.0,0.01,0.1,1],\n",
    "     'min_impurity_split': [None],\n",
    "     'min_samples_leaf': [1,5,10,15],\n",
    "     'min_samples_split': [2,5,10],\n",
    "     'min_weight_fraction_leaf': [0.0],\n",
    "     'n_estimators': [5,10,20,100],\n",
    "     'n_jobs': [None],\n",
    "     'oob_score': [False],\n",
    "     'random_state': [123]\n",
    "            }\n",
    "\n",
    "grid_params['estimator'] = rf_model\n",
    "grid_params['param_grid'] = params_rf\n",
    "\n",
    "test_preds_rf, rf_model = run_model(train, test, grid_params, file_name = \"submission_rf.csv\")"
   ]
  },
  {
   "cell_type": "markdown",
   "metadata": {},
   "source": [
    "Hmm, this one yielded pretty good test results of about 0.78. "
   ]
  },
  {
   "cell_type": "markdown",
   "metadata": {},
   "source": [
    "## Okay, let's go for an ensemble model\n",
    "\n",
    "Some of the models has worked quite well, but none has been perfect. Let's combine them into an ensemble model and see how good that one will be. \n",
    "\n",
    "I will not combine ridge regression, as it require modifications of the data for a result. However, I will combine the others. Logistic regression is probably not very good though, so I might exclude that one. \n",
    "\n",
    "I will also not include logistic regression due to its poor results previously. \n",
    "\n",
    "Also noteworthy is that the scaled data will be used. Hopefully, it will not hurt the accuracy of the models that did not use scaled data for their best results. \n",
    "\n",
    "However, let's first check out how the predictions of the test set correlates. "
   ]
  },
  {
   "cell_type": "code",
   "execution_count": 30,
   "metadata": {},
   "outputs": [
    {
     "name": "stderr",
     "output_type": "stream",
     "text": [
      "/usr/local/lib/python3.6/site-packages/numpy/lib/type_check.py:546: DeprecationWarning: np.asscalar(a) is deprecated since NumPy v1.16, use a.item() instead\n",
      "  'a.item() instead', DeprecationWarning, stacklevel=1)\n"
     ]
    },
    {
     "data": {
      "text/plain": [
       "<matplotlib.axes._subplots.AxesSubplot at 0x12000d2e8>"
      ]
     },
     "execution_count": 30,
     "metadata": {},
     "output_type": "execute_result"
    },
    {
     "data": {
      "image/png": "[encoded data removed]",
      "text/plain": [
       "<Figure size 432x288 with 2 Axes>"
      ]
     },
     "metadata": {},
     "output_type": "display_data"
    }
   ],
   "source": [
    "preds = pd.concat([pd.Series(test_preds_rf),pd.Series(test_preds_gauss),pd.Series(test_preds_xgb),pd.Series(test_preds_svm)], axis = 1)\n",
    "\n",
    "preds.columns = ['Random Forest', 'Gaussian Process', 'XGBoost', 'SVM']\n",
    "preds.corr()\n",
    "\n",
    "import seaborn as sns\n",
    "\n",
    "sns.heatmap(preds.corr(), xticklabels=preds.columns, yticklabels=preds.columns, annot=True)\n"
   ]
  },
  {
   "cell_type": "code",
   "execution_count": 31,
   "metadata": {},
   "outputs": [
    {
     "name": "stderr",
     "output_type": "stream",
     "text": [
      "/usr/local/lib/python3.6/site-packages/sklearn/svm/base.py:196: FutureWarning: The default value of gamma will change from 'auto' to 'scale' in version 0.22 to account better for unscaled features. Set gamma explicitly to 'auto' or 'scale' to avoid this warning.\n",
      "  \"avoid this warning.\", FutureWarning)\n"
     ]
    },
    {
     "name": "stdout",
     "output_type": "stream",
     "text": [
      "[[515  33]\n",
      " [ 67 275]]\n"
     ]
    }
   ],
   "source": [
    "from sklearn.ensemble import VotingClassifier\n",
    "svm_model.set_params(probability = True)\n",
    "vc_model = VotingClassifier([('rf',rf_model),('xgb',xgb_model),('gp',gp_model),('svm',svm_model)], voting = 'soft')\n",
    "\n",
    "\n",
    "X_train = train_gp.drop(['Survived'], axis = 1)\n",
    "y_train = train_gp['Survived']\n",
    "X_test = test_gp.drop(['Survived'],axis = 1)\n",
    "\n",
    "vc_model.fit(X_train, y_train)\n",
    "\n",
    "preds_train = vc_model.predict(X_train)\n",
    "\n",
    "from sklearn.metrics import confusion_matrix\n",
    "\n",
    "print(confusion_matrix(y_train, preds_train))\n",
    "y_preds_test = vc_model.predict(X_test)\n",
    "\n",
    "create_submission(test_gp,y_preds_test, \"submission_vc_soft.csv\")"
   ]
  },
  {
   "cell_type": "markdown",
   "metadata": {},
   "source": [
    "## Critique, questions and problems \n",
    "\n",
    "In this work, I did some feature analysis, feature engineering and tried a few different models. \n",
    "\n",
    "- I do introduce a bias by drawing from the classes' respective distributions in age. This might be questionable, and other methods might be more appropriate. For example, just filling in with the median, but I don't think that is the way to go either. \n",
    "- Upsampling is, to be honest, probably not completely needed here. The data set is already *quite* balanced, and introducing the bias through upsampling of people surviving might actually hurt the results. I did it first, but decided not to, which actually improved my scores. \n",
    "- Feature selection needs to be improved. Currently, I have 36 columns. While this is still ~20 times less than the number of training samples, many of these matrices are sparse. \n",
    "- How I choose my parameters for my gridsearch for the models can still be improved. I would love to receive feedback on the grid input parameters for the models. \n",
    "- Although I did remove some outliers, I am not sure as to how much these actually affect the models that I specifically chose to implement, apart from logistic regression, which is sensitive to outliers. \n",
    "\n",
    "So far, the RandomForest, the Gaussian Process and XGBoost have yielded the best scores. I think there might be some feature engineering left to do. "
   ]
  }
 ],
 "metadata": {
  "kernelspec": {
   "display_name": "Python 3",
   "language": "python",
   "name": "python3"
  },
  "language_info": {
   "codemirror_mode": {
    "name": "ipython",
    "version": 3
   },
   "file_extension": ".py",
   "mimetype": "text/x-python",
   "name": "python",
   "nbconvert_exporter": "python",
   "pygments_lexer": "ipython3",
   "version": "3.6.5"
  }
 },
 "nbformat": 4,
 "nbformat_minor": 2
}
